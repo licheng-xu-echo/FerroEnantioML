{
 "cells": [
  {
   "cell_type": "code",
   "execution_count": null,
   "id": "3ee909f0",
   "metadata": {},
   "outputs": [
    {
     "name": "stderr",
     "output_type": "stream",
     "text": [
      "/usr/local/lib/python3.10/dist-packages/tqdm/auto.py:21: TqdmWarning: IProgress not found. Please update jupyter and ipywidgets. See https://ipywidgets.readthedocs.io/en/stable/user_install.html\n",
      "  from .autonotebook import tqdm as notebook_tqdm\n"
     ]
    }
   ],
   "source": [
    "import pandas as pd\n",
    "import numpy as np\n",
    "import warnings\n",
    "from rxnpredict.ts.desc import sel_satisfy_ts_data,vec_ts_pair_in_dataset,get_diff_ts_desc,load_map\n",
    "from rxnpredict.models.utils import get_model\n",
    "from rxnpredict.evaluate.eval import get_val_score_add_data,get_predict,get_topk_rxn_comb_df\n",
    "from rxnpredict.descriptors.desc import vect_columns_in_dataset,sel_high_corr_desc,reduce_desc_with_corr_matrix\n",
    "from rxnpredict.descriptors.utils import process_desc,maxminscale\n",
    "from rdkit import RDLogger\n",
    "from rxnpredict.utils.convert import ddG2ee\n",
    "from rxnpredict.descriptors.utils import canonical_smiles\n",
    "import itertools\n",
    "\n",
    "RDLogger.DisableLog('rdApp.*')\n",
    "warnings.filterwarnings('ignore')"
   ]
  },
  {
   "cell_type": "code",
   "execution_count": null,
   "id": "a0db07e0",
   "metadata": {},
   "outputs": [],
   "source": [
    "model_name = \"GradientBoostingRegressor\"\n",
    "desc_name = \"SPOC\"\n",
    "merge_method = \"delta\"\n",
    "topk = 300\n",
    "dist_type = \"euclidean\"\n",
    "descriptor_pearsonr_threshold = 0.95\n",
    "descriptor_target_pearsonr_threshold = 0.2\n",
    "base_rct_keys = [\"Reactant1\",\"Reactant2\"]\n",
    "target_rct_keys = [\"Reactant1\",\"Reactant2\"]\n",
    "base_sol_keys = [\"Solvents\"]\n",
    "target_sol_keys = [\"Solvents\"]\n",
    "base_rgt_keys = [\"Reagents\"]\n",
    "target_rgt_keys = [\"Reagents\"]\n",
    "base_ts_key = [\"Reactant2\",\"Reagent5\"]\n",
    "target_ts_key = [\"Reactant2\",\"Reagent2\"]\n",
    "selection_inf = {\n",
    "            \"type\": \"loo\",\n",
    "            \"fold\": 10,\n",
    "            \"metric\": [\n",
    "                \"r2\",\n",
    "                \"mae\"\n",
    "            ]}"
   ]
  },
  {
   "cell_type": "code",
   "execution_count": 3,
   "id": "b7f34f67",
   "metadata": {},
   "outputs": [
    {
     "name": "stdout",
     "output_type": "stream",
     "text": [
      "base data shape: (466, 16) target data shape: (68, 12)\n"
     ]
    }
   ],
   "source": [
    "base_data_file = \"../data/base_data.csv\"\n",
    "target_data_file = \"../data/target_data.csv\"\n",
    "base_data = pd.read_csv(base_data_file)\n",
    "target_data = pd.read_csv(target_data_file)\n",
    "base_data_clean = base_data.dropna(axis=1, how='all')\n",
    "target_data_clean = target_data.dropna(axis=1, how='all')\n",
    "\n",
    "# fill NaN with empty string\n",
    "for key in target_rct_keys + target_sol_keys + target_rgt_keys:\n",
    "    target_data_clean[key] = target_data_clean[key].fillna('')\n",
    "for key in base_rct_keys + base_sol_keys + base_rgt_keys:\n",
    "    base_data_clean[key] = base_data_clean[key].fillna('')\n",
    "## Drop rows with missing target values\n",
    "target_data_clean = target_data_clean.dropna(subset=target_rct_keys+target_ts_key)\n",
    "base_data_clean = base_data_clean.dropna(subset=base_rct_keys+base_ts_key)\n",
    "clear_smiles_tsdesc_map = np.load(\"../desc/clear_smiles_tsdesc_map.npy\",allow_pickle=True).item()\n",
    "print(f\"base data shape: {base_data_clean.shape}\", f\"target data shape: {target_data_clean.shape}\")"
   ]
  },
  {
   "cell_type": "code",
   "execution_count": 4,
   "id": "7aca9a64",
   "metadata": {},
   "outputs": [
    {
     "name": "stdout",
     "output_type": "stream",
     "text": [
      "Dataset size: target = (68, 12) (without ts constraint) (55, 12) (with ts constraint), base = (466, 16) (without ts constraint) (446, 16) (with ts constraint)\n",
      "target TS descriptor shape: (55, 114), name shape: (55, 114), base TS descriptor shape: (446, 114), name shape: (446, 114)\n",
      "Full target TS descriptor shape: (55, 171), name shape: (171,), base TS descriptor shape: (446, 171), name shape: (171,)\n"
     ]
    }
   ],
   "source": [
    "sel_target_data_clean = target_data_clean.iloc[sel_satisfy_ts_data(target_data_clean,target_ts_key,clear_smiles_tsdesc_map)]\n",
    "sel_base_data_clean = base_data_clean.iloc[sel_satisfy_ts_data(base_data_clean,base_ts_key,clear_smiles_tsdesc_map)]\n",
    "print(f\"Dataset size: target = {target_data_clean.shape} (without ts constraint) {sel_target_data_clean.shape} (with ts constraint), base = {base_data_clean.shape} (without ts constraint) {sel_base_data_clean.shape} (with ts constraint)\")\n",
    "\n",
    "# perform vectorization for target values with ts descriptors\n",
    "target_ts_desc_inf = vec_ts_pair_in_dataset(sel_target_data_clean,target_ts_key,clear_smiles_tsdesc_map)\n",
    "target_ts_desc,target_ts_desc_names = target_ts_desc_inf[:,0,:].astype(np.float32),target_ts_desc_inf[:,1,:]\n",
    "base_ts_desc_inf = vec_ts_pair_in_dataset(sel_base_data_clean,base_ts_key,clear_smiles_tsdesc_map)\n",
    "base_ts_desc,base_ts_desc_names = base_ts_desc_inf[:,0,:].astype(np.float32),base_ts_desc_inf[:,1,:]\n",
    "print(f\"target TS descriptor shape: {target_ts_desc.shape}, name shape: {target_ts_desc_names.shape}, base TS descriptor shape: {base_ts_desc.shape}, name shape: {base_ts_desc_names.shape}\")\n",
    "\n",
    "\n",
    "# calculate difference descriptors between R/S TS\n",
    "target_ts_diff_desc,target_ts_diff_desc_names = get_diff_ts_desc(target_ts_desc,target_ts_desc_names[0])\n",
    "base_ts_diff_desc,base_ts_diff_desc_names = get_diff_ts_desc(base_ts_desc,base_ts_desc_names[0])\n",
    "target_ts_desc = np.concatenate([target_ts_desc,target_ts_diff_desc],axis=1)                                             ## full TS descriptors\n",
    "base_ts_desc = np.concatenate([base_ts_desc,base_ts_diff_desc],axis=1)                                                   ## full TS descriptors\n",
    "target_ts_desc_names = np.concatenate([target_ts_desc_names[0],target_ts_diff_desc_names],axis=0)                        ## full TS descriptor names\n",
    "base_ts_desc_names = np.concatenate([base_ts_desc_names[0],base_ts_diff_desc_names],axis=0)                              ## full TS descriptor names\n",
    "target_ddG = sel_target_data_clean[\"ddG\"].to_numpy()\n",
    "base_ddG = sel_base_data_clean[\"ddG\"].to_numpy()\n",
    "print(f\"Full target TS descriptor shape: {target_ts_desc.shape}, name shape: {target_ts_desc_names.shape}, base TS descriptor shape: {base_ts_desc.shape}, name shape: {base_ts_desc_names.shape}\")"
   ]
  },
  {
   "cell_type": "code",
   "execution_count": 5,
   "id": "644141fc",
   "metadata": {},
   "outputs": [
    {
     "name": "stdout",
     "output_type": "stream",
     "text": [
      "target_ts_desc shape: (55, 171), base_ts_desc shape: (446, 171)\n",
      "target_ts_desc_ shape: (55, 67),  base_ts_desc_ shape: (446, 67)\n",
      "SPOC target_merg_rxn_desc shape: (55, 9032), base_merg_rxn_desc shape: (446, 9032)\n",
      "SPOC target_merg_rxn_desc_ shape: (55, 193),  base_merg_rxn_desc_ shape: (446, 193)\n"
     ]
    }
   ],
   "source": [
    "pregen_desc_map = np.load(\"../desc/desc_for_other_components.npy\",allow_pickle=True).item()\n",
    "\n",
    "# descriptor process\n",
    "concat_ts_desc,concat_ts_desc_process_ret_idx = process_desc(np.concatenate([target_ts_desc,base_ts_desc],axis=0),return_idx=True)                                                                              # descriptor process\n",
    "concat_ts_desc,concat_ts_desc_max,concat_ts_desc_min = maxminscale(concat_ts_desc,return_scale=True)                                                                                                            # descriptor process\n",
    "# remove correlated descriptors\n",
    "concat_ts_desc,concat_ts_desc_high_tgt_corr_idx = sel_high_corr_desc(concat_ts_desc,np.concatenate([target_ddG,base_ddG]),threshold=descriptor_target_pearsonr_threshold,return_idx=True)                       # descriptor elimination\n",
    "concat_ts_desc,concat_ts_desc_high_corr_idx = reduce_desc_with_corr_matrix(concat_ts_desc,threshold=descriptor_pearsonr_threshold,ret_idx=True)                                                                 # descriptor elimination\n",
    "\n",
    "target_ts_desc_ = concat_ts_desc[:target_ts_desc.shape[0]]\n",
    "base_ts_desc_ = concat_ts_desc[target_ts_desc.shape[0]:]\n",
    "print(f\"target_ts_desc shape: {target_ts_desc.shape}, base_ts_desc shape: {base_ts_desc.shape}\")\n",
    "print(f\"target_ts_desc_ shape: {target_ts_desc_.shape},  base_ts_desc_ shape: {base_ts_desc_.shape}\")\n",
    "\n",
    "\n",
    "target_merg_rxn_desc = pregen_desc_map[desc_name][\"target\"]\n",
    "base_merg_rxn_desc = pregen_desc_map[desc_name][\"base\"]\n",
    "concat_merge_rxn_desc, concat_merge_rxn_desc_process_ret_idx = process_desc(np.concatenate([target_merg_rxn_desc,base_merg_rxn_desc],axis=0),return_idx=True)                                                               # descriptor process\n",
    "concat_merge_rxn_desc,concat_merge_rxn_desc_max,concat_merge_rxn_desc_min = maxminscale(concat_merge_rxn_desc,return_scale=True)                                                                                            # descriptor process\n",
    "concat_merge_rxn_desc,concat_merge_rxn_desc_high_tgt_corr_idx = sel_high_corr_desc(concat_merge_rxn_desc,np.concatenate([target_ddG,base_ddG]),threshold=descriptor_target_pearsonr_threshold,return_idx=True)              # descriptor elimination\n",
    "concat_merge_rxn_desc,concat_merge_rxn_desc_high_corr_idx = reduce_desc_with_corr_matrix(concat_merge_rxn_desc,threshold=descriptor_pearsonr_threshold,ret_idx=True)                                                        # descriptor process\n",
    "\n",
    "target_merg_rxn_desc_ = concat_merge_rxn_desc[:target_merg_rxn_desc.shape[0]]\n",
    "base_merg_rxn_desc_ = concat_merge_rxn_desc[target_merg_rxn_desc.shape[0]:]\n",
    "print(f\"{desc_name} target_merg_rxn_desc shape: {target_merg_rxn_desc.shape}, base_merg_rxn_desc shape: {base_merg_rxn_desc.shape}\")\n",
    "print(f\"{desc_name} target_merg_rxn_desc_ shape: {target_merg_rxn_desc_.shape},  base_merg_rxn_desc_ shape: {base_merg_rxn_desc_.shape}\")\n",
    "\n",
    "target_full_rxn_desc = np.concatenate([target_merg_rxn_desc_,target_ts_desc_],axis=1)                       # TS + other component descriptors\n",
    "base_full_rxn_desc = np.concatenate([base_merg_rxn_desc_,base_ts_desc_],axis=1)                             # TS + other component descriptors\n",
    "\n",
    "full_rxn_desc_std, full_rxn_desc_process_ret_idx = process_desc(np.concatenate([target_full_rxn_desc,base_full_rxn_desc],axis=0),return_idx=True)\n",
    "full_rxn_desc_std, full_rxn_desc_max, full_rxn_desc_min = maxminscale(full_rxn_desc_std,return_scale=True)\n",
    "\n",
    "target_full_rxn_desc_ = full_rxn_desc_std[:target_full_rxn_desc.shape[0]]\n",
    "base_full_rxn_desc_ = full_rxn_desc_std[target_full_rxn_desc.shape[0]:]"
   ]
  },
  {
   "cell_type": "markdown",
   "id": "7864ddc5",
   "metadata": {},
   "source": [
    "### Reaction condition recommendation"
   ]
  },
  {
   "cell_type": "code",
   "execution_count": 6,
   "id": "8a30f281",
   "metadata": {},
   "outputs": [
    {
     "name": "stdout",
     "output_type": "stream",
     "text": [
      "ligand count: 85, reagent count: 6\n",
      "Total combinations: 510, existed combinations: 55, new combinations: 455\n",
      "Size of selected virtual combinations: 431\n",
      "Size of missing virtual combinations: 24\n"
     ]
    }
   ],
   "source": [
    "tgt_lig_lst = sel_target_data_clean[\"Reagent2\"].to_list()\n",
    "tgt_rgt_lst = sel_target_data_clean[\"Reagents\"].to_list()\n",
    "tgt_rgt1_lst = sorted(list(set(sel_target_data_clean[\"Reagent1\"].to_list())))\n",
    "tgt_rgt2_lst = sorted(list(set(sel_target_data_clean[\"Reagent3\"].to_list())))\n",
    "tgt_rgt3_lst = sorted(list(set(sel_target_data_clean[\"Reagent4\"].to_list())))\n",
    "tgt_sol_lst = sel_target_data_clean[\"Solvents\"].to_list()\n",
    "proposed_lig_smi_set = pd.read_csv(\"../data/proposed_ligand_library.csv\")[\"SMILES\"].to_list()\n",
    "lig_lst = [item.split(\",\")[1] for item in list(load_map(\"../data/smi_idx_map.csv\").keys())]\n",
    "rgt_set = sorted([canonical_smiles(\".\".join([rgt1,rgt2,rgt3])) for rgt1,rgt2,rgt3 in itertools.product(tgt_rgt1_lst,tgt_rgt2_lst,tgt_rgt3_lst)])\n",
    "\n",
    "lig_set = sorted(list(set(sel_target_data_clean[\"Reagent2\"].to_list() + sel_base_data_clean[\"Reagent5\"].to_list() + proposed_lig_smi_set + lig_lst)))\n",
    "sol_set = sorted(list(set(tgt_sol_lst)))\n",
    "print(f\"ligand count: {len(lig_set)}, reagent count: {len(rgt_set)}\")\n",
    "tot_comb = list(itertools.product(lig_set,rgt_set,sol_set))\n",
    "tot_comb = [(item[0],canonical_smiles(f\"{item[0]}.{item[1]}\"),item[2]) for item in tot_comb] \n",
    "existed_comb = [(lig,rgt,sol) for lig,rgt,sol in zip(tgt_lig_lst,tgt_rgt_lst,tgt_sol_lst)]\n",
    "ret_comb = [comb for comb in tot_comb if comb not in existed_comb]\n",
    "print(f\"Total combinations: {len(tot_comb)}, existed combinations: {len(existed_comb)}, new combinations: {len(ret_comb)}\")\n",
    "\n",
    "vir_comb = ret_comb\n",
    "ret_vir_comb_df = pd.DataFrame({\"Reactant1\": [sel_target_data_clean[\"Reactant1\"][0]] * len(vir_comb),\n",
    "                            \"Reactant2\": [sel_target_data_clean[\"Reactant2\"][0]] * len(vir_comb),\n",
    "                            \"Ligand\": [lig for lig,rgt,sol in vir_comb],\n",
    "                            \"Reagents\": [rgt for lig,rgt,sol in vir_comb],  \n",
    "                            \"Solvents\": [sol for lig,rgt,sol in vir_comb]})\n",
    "sel_vir_idx = sel_satisfy_ts_data(ret_vir_comb_df,[\"Reactant2\",\"Ligand\"],clear_smiles_tsdesc_map,verbose=False)\n",
    "miss_vir_idx = list(set(range(0,ret_vir_comb_df.shape[0])) - set(sel_vir_idx))\n",
    "sel_vir_comb_df = ret_vir_comb_df.iloc[sel_vir_idx,:]\n",
    "miss_vir_comb_df = ret_vir_comb_df.iloc[miss_vir_idx,:]\n",
    "print(f\"Size of selected virtual combinations: {sel_vir_comb_df.shape[0]}\")\n",
    "print(f\"Size of missing virtual combinations: {miss_vir_comb_df.shape[0]}\")"
   ]
  },
  {
   "cell_type": "code",
   "execution_count": 7,
   "id": "7330085a",
   "metadata": {},
   "outputs": [
    {
     "name": "stdout",
     "output_type": "stream",
     "text": [
      "4.0 -0.6956223249435425\n"
     ]
    }
   ],
   "source": [
    "# descriptor for other components\n",
    "vir_merg_rct_desc,_,_ = vect_columns_in_dataset(sel_vir_comb_df,[\"Reactant1\",\"Reactant2\"],{'descriptor':desc_name},verbose=True)\n",
    "vir_merg_sol_desc,_,_ = vect_columns_in_dataset(sel_vir_comb_df,[\"Solvents\"],{'descriptor':desc_name},verbose=True)\n",
    "vir_merg_reag_desc,_,_ = vect_columns_in_dataset(sel_vir_comb_df,[\"Reagents\"],{'descriptor':desc_name},verbose=True)\n",
    "\n",
    "vir_merg_rxn_desc = np.concatenate([vir_merg_rct_desc,vir_merg_sol_desc,vir_merg_reag_desc],axis=1)\n",
    "# descriptor for TS\n",
    "vir_ts_desc_inf = vec_ts_pair_in_dataset(sel_vir_comb_df,[\"Reactant2\",\"Ligand\"],clear_smiles_tsdesc_map)\n",
    "vir_ts_desc,vir_ts_desc_names = vir_ts_desc_inf[:,0,:].astype(np.float32),vir_ts_desc_inf[:,1,:]\n",
    "\n",
    "# calculate difference descriptors between R/S TS\n",
    "vir_ts_diff_desc,vir_ts_diff_desc_names = get_diff_ts_desc(vir_ts_desc,vir_ts_desc_names[0])\n",
    "vir_ts_desc = np.concatenate([vir_ts_desc,vir_ts_diff_desc],axis=1)                                             ## full TS descriptors\n",
    "\n",
    "vir_ts_desc_ = ((vir_ts_desc[:,concat_ts_desc_process_ret_idx]-concat_ts_desc_min) / (concat_ts_desc_max-concat_ts_desc_min))[:,concat_ts_desc_high_tgt_corr_idx][:,concat_ts_desc_high_corr_idx]     \n",
    "#vir_merg_rxn_desc_ = \n",
    "vir_merg_rxn_desc_ = ((vir_merg_rxn_desc[:,concat_merge_rxn_desc_process_ret_idx]-concat_merge_rxn_desc_min) / (concat_merge_rxn_desc_max-concat_merge_rxn_desc_min))[:,concat_merge_rxn_desc_high_tgt_corr_idx][:,concat_merge_rxn_desc_high_corr_idx]\n",
    "vir_full_rxn_desc = (np.concatenate([vir_merg_rxn_desc_,vir_ts_desc_],axis=1)[:,full_rxn_desc_process_ret_idx] - full_rxn_desc_min) / (full_rxn_desc_max-full_rxn_desc_min)  ## final descriptor\n",
    "print(vir_full_rxn_desc.max(axis=0).max(),vir_full_rxn_desc.min(axis=0).min())"
   ]
  },
  {
   "cell_type": "code",
   "execution_count": 8,
   "id": "67da5fa5",
   "metadata": {},
   "outputs": [
    {
     "name": "stdout",
     "output_type": "stream",
     "text": [
      "Evalutaion process: merge method delta, similarity evaluation True, similarity evaluation based on valid, distance type euclidean, topk 300\n"
     ]
    },
    {
     "name": "stdout",
     "output_type": "stream",
     "text": [
      "Evalutaion process: merge method delta, similarity evaluation True, distance type euclidean, topk 300\n",
      "333 times model fitting\n",
      "score map: {'r2': 0.6116652186153568, 'mae': 0.21370511231510728}\n"
     ]
    }
   ],
   "source": [
    "model = get_model(model_name,model_params={\"n_estimators\":50,\"random_state\":1024})  ## based on model parameter opt\n",
    "va_Y,va_P,score_map = get_val_score_add_data(model,base_full_rxn_desc_,base_ddG,target_full_rxn_desc_,target_ddG,selection_inf=selection_inf,merge_method=merge_method,topk=topk,dist_type=dist_type)\n",
    "\n",
    "vir_P = get_predict(model,base_full_rxn_desc_,base_ddG,target_full_rxn_desc_,target_ddG,vir_full_rxn_desc,merge_method=merge_method,simi_eval=True,dist_type=dist_type,topk=topk,base_simi_X=None,dest_simi_X=None,verbose=True)\n",
    "vir_ee = ddG2ee(vir_P,60+273.15)\n",
    "sel_vir_comb_df[\"Predict_ddG\"] = vir_P\n",
    "sel_vir_comb_df[\"Predict_ee\"] = vir_ee\n",
    "topk_recommend_res = get_topk_rxn_comb_df(sel_vir_comb_df,\"Predict_ddG\",topk=10)\n",
    "\n",
    "\n",
    "topk_rgts = topk_recommend_res[\"Reagents\"].to_list()\n",
    "topk_ddG = topk_recommend_res[\"Predict_ddG\"].to_numpy()\n",
    "topk_ee = ddG2ee(topk_ddG,60+273.15)\n",
    "\n",
    "print(f\"score map: {score_map}\")"
   ]
  },
  {
   "cell_type": "code",
   "execution_count": 10,
   "id": "9cc3c262",
   "metadata": {},
   "outputs": [
    {
     "data": {
      "text/html": [
       "<div>\n",
       "<style scoped>\n",
       "    .dataframe tbody tr th:only-of-type {\n",
       "        vertical-align: middle;\n",
       "    }\n",
       "\n",
       "    .dataframe tbody tr th {\n",
       "        vertical-align: top;\n",
       "    }\n",
       "\n",
       "    .dataframe thead th {\n",
       "        text-align: right;\n",
       "    }\n",
       "</style>\n",
       "<table border=\"1\" class=\"dataframe\">\n",
       "  <thead>\n",
       "    <tr style=\"text-align: right;\">\n",
       "      <th></th>\n",
       "      <th>Reactant1</th>\n",
       "      <th>Reactant2</th>\n",
       "      <th>Ligand</th>\n",
       "      <th>Reagents</th>\n",
       "      <th>Solvents</th>\n",
       "      <th>Predict_ddG</th>\n",
       "      <th>Predict_ee</th>\n",
       "    </tr>\n",
       "  </thead>\n",
       "  <tbody>\n",
       "    <tr>\n",
       "      <th>201</th>\n",
       "      <td>C=CC(=O)N(C)C</td>\n",
       "      <td>CN1CC23C4C5C6C2[Fe]56432789C3C2C7C8(C1)C39</td>\n",
       "      <td>CC(C)(C)OC(=O)N[C@@H](Cc1ccn(COCc2ccccc2)c1)C(...</td>\n",
       "      <td>CC(=O)O[Pd]OC(C)=O.CC(C)(C)OC(=O)N[C@@H](Cc1cc...</td>\n",
       "      <td>CN(C)C=O</td>\n",
       "      <td>2.485285</td>\n",
       "      <td>0.954073</td>\n",
       "    </tr>\n",
       "    <tr>\n",
       "      <th>122</th>\n",
       "      <td>C=CC(=O)N(C)C</td>\n",
       "      <td>CN1CC23C4C5C6C2[Fe]56432789C3C2C7C8(C1)C39</td>\n",
       "      <td>CC(C)(C)OC(=O)N[C@@H](Cc1cc(F)cc(F)c1)C(=O)O</td>\n",
       "      <td>CC(=O)O[Pd]OC(C)=O.CC(C)(C)OC(=O)N[C@@H](Cc1cc...</td>\n",
       "      <td>CN(C)C=O</td>\n",
       "      <td>2.333197</td>\n",
       "      <td>0.942564</td>\n",
       "    </tr>\n",
       "    <tr>\n",
       "      <th>199</th>\n",
       "      <td>C=CC(=O)N(C)C</td>\n",
       "      <td>CN1CC23C4C5C6C2[Fe]56432789C3C2C7C8(C1)C39</td>\n",
       "      <td>CC(C)(C)OC(=O)N[C@@H](Cc1ccn(COCc2ccccc2)c1)C(...</td>\n",
       "      <td>CC(=O)O[Pd]OC(C)=O.CC(C)(C)OC(=O)N[C@@H](Cc1cc...</td>\n",
       "      <td>CN(C)C=O</td>\n",
       "      <td>2.320939</td>\n",
       "      <td>0.941523</td>\n",
       "    </tr>\n",
       "    <tr>\n",
       "      <th>403</th>\n",
       "      <td>C=CC(=O)N(C)C</td>\n",
       "      <td>CN1CC23C4C5C6C2[Fe]56432789C3C2C7C8(C1)C39</td>\n",
       "      <td>Cc1ccccc1C[C@H](NC(=O)OC(C)(C)C)C(=O)O</td>\n",
       "      <td>CC(=O)O[Pd]OC(C)=O.CCCC[N+](CCCC)(CCCC)CCCC.Cc...</td>\n",
       "      <td>CN(C)C=O</td>\n",
       "      <td>2.314561</td>\n",
       "      <td>0.940974</td>\n",
       "    </tr>\n",
       "    <tr>\n",
       "      <th>119</th>\n",
       "      <td>C=CC(=O)N(C)C</td>\n",
       "      <td>CN1CC23C4C5C6C2[Fe]56432789C3C2C7C8(C1)C39</td>\n",
       "      <td>CC(C)(C)OC(=O)N[C@@H](Cc1cc(F)cc(F)c1)C(=O)O</td>\n",
       "      <td>CC(=O)O[Pd]OC(C)=O.CC(C)(C)OC(=O)N[C@@H](Cc1cc...</td>\n",
       "      <td>CN(C)C=O</td>\n",
       "      <td>2.238687</td>\n",
       "      <td>0.934050</td>\n",
       "    </tr>\n",
       "    <tr>\n",
       "      <th>312</th>\n",
       "      <td>C=CC(=O)N(C)C</td>\n",
       "      <td>CN1CC23C4C5C6C2[Fe]56432789C3C2C7C8(C1)C39</td>\n",
       "      <td>CC[C@@H](C)[C@@H](NC(=O)OC(C)(C)C)C(=O)O</td>\n",
       "      <td>CC(=O)O[Pd]OC(C)=O.CCCC[N+](CCCC)(CCCC)CCCC.CC...</td>\n",
       "      <td>CN(C)C=O</td>\n",
       "      <td>2.212391</td>\n",
       "      <td>0.931471</td>\n",
       "    </tr>\n",
       "    <tr>\n",
       "      <th>316</th>\n",
       "      <td>C=CC(=O)N(C)C</td>\n",
       "      <td>CN1CC23C4C5C6C2[Fe]56432789C3C2C7C8(C1)C39</td>\n",
       "      <td>CC[C@@H](C)[C@@H](NC(=O)OC(C)(C)C)C(=O)O</td>\n",
       "      <td>CC(=O)O[Pd]OC(C)=O.CCCC[N+](CCCC)(CCCC)CCCC.CC...</td>\n",
       "      <td>CN(C)C=O</td>\n",
       "      <td>2.149975</td>\n",
       "      <td>0.924956</td>\n",
       "    </tr>\n",
       "    <tr>\n",
       "      <th>200</th>\n",
       "      <td>C=CC(=O)N(C)C</td>\n",
       "      <td>CN1CC23C4C5C6C2[Fe]56432789C3C2C7C8(C1)C39</td>\n",
       "      <td>CC(C)(C)OC(=O)N[C@@H](Cc1ccn(COCc2ccccc2)c1)C(...</td>\n",
       "      <td>CC(=O)O[Pd]OC(C)=O.CC(C)(C)OC(=O)N[C@@H](Cc1cc...</td>\n",
       "      <td>CN(C)C=O</td>\n",
       "      <td>2.126576</td>\n",
       "      <td>0.922364</td>\n",
       "    </tr>\n",
       "    <tr>\n",
       "      <th>402</th>\n",
       "      <td>C=CC(=O)N(C)C</td>\n",
       "      <td>CN1CC23C4C5C6C2[Fe]56432789C3C2C7C8(C1)C39</td>\n",
       "      <td>Cc1ccccc1C[C@H](NC(=O)OC(C)(C)C)C(=O)O</td>\n",
       "      <td>CC(=O)O[Pd]OC(C)=O.CCCC[N+](CCCC)(CCCC)CCCC.Cc...</td>\n",
       "      <td>CN(C)C=O</td>\n",
       "      <td>2.114718</td>\n",
       "      <td>0.921017</td>\n",
       "    </tr>\n",
       "    <tr>\n",
       "      <th>121</th>\n",
       "      <td>C=CC(=O)N(C)C</td>\n",
       "      <td>CN1CC23C4C5C6C2[Fe]56432789C3C2C7C8(C1)C39</td>\n",
       "      <td>CC(C)(C)OC(=O)N[C@@H](Cc1cc(F)cc(F)c1)C(=O)O</td>\n",
       "      <td>CC(=O)O[Pd]OC(C)=O.CC(C)(C)OC(=O)N[C@@H](Cc1cc...</td>\n",
       "      <td>CN(C)C=O</td>\n",
       "      <td>2.053964</td>\n",
       "      <td>0.913761</td>\n",
       "    </tr>\n",
       "  </tbody>\n",
       "</table>\n",
       "</div>"
      ],
      "text/plain": [
       "         Reactant1                                   Reactant2  \\\n",
       "201  C=CC(=O)N(C)C  CN1CC23C4C5C6C2[Fe]56432789C3C2C7C8(C1)C39   \n",
       "122  C=CC(=O)N(C)C  CN1CC23C4C5C6C2[Fe]56432789C3C2C7C8(C1)C39   \n",
       "199  C=CC(=O)N(C)C  CN1CC23C4C5C6C2[Fe]56432789C3C2C7C8(C1)C39   \n",
       "403  C=CC(=O)N(C)C  CN1CC23C4C5C6C2[Fe]56432789C3C2C7C8(C1)C39   \n",
       "119  C=CC(=O)N(C)C  CN1CC23C4C5C6C2[Fe]56432789C3C2C7C8(C1)C39   \n",
       "312  C=CC(=O)N(C)C  CN1CC23C4C5C6C2[Fe]56432789C3C2C7C8(C1)C39   \n",
       "316  C=CC(=O)N(C)C  CN1CC23C4C5C6C2[Fe]56432789C3C2C7C8(C1)C39   \n",
       "200  C=CC(=O)N(C)C  CN1CC23C4C5C6C2[Fe]56432789C3C2C7C8(C1)C39   \n",
       "402  C=CC(=O)N(C)C  CN1CC23C4C5C6C2[Fe]56432789C3C2C7C8(C1)C39   \n",
       "121  C=CC(=O)N(C)C  CN1CC23C4C5C6C2[Fe]56432789C3C2C7C8(C1)C39   \n",
       "\n",
       "                                                Ligand  \\\n",
       "201  CC(C)(C)OC(=O)N[C@@H](Cc1ccn(COCc2ccccc2)c1)C(...   \n",
       "122       CC(C)(C)OC(=O)N[C@@H](Cc1cc(F)cc(F)c1)C(=O)O   \n",
       "199  CC(C)(C)OC(=O)N[C@@H](Cc1ccn(COCc2ccccc2)c1)C(...   \n",
       "403             Cc1ccccc1C[C@H](NC(=O)OC(C)(C)C)C(=O)O   \n",
       "119       CC(C)(C)OC(=O)N[C@@H](Cc1cc(F)cc(F)c1)C(=O)O   \n",
       "312           CC[C@@H](C)[C@@H](NC(=O)OC(C)(C)C)C(=O)O   \n",
       "316           CC[C@@H](C)[C@@H](NC(=O)OC(C)(C)C)C(=O)O   \n",
       "200  CC(C)(C)OC(=O)N[C@@H](Cc1ccn(COCc2ccccc2)c1)C(...   \n",
       "402             Cc1ccccc1C[C@H](NC(=O)OC(C)(C)C)C(=O)O   \n",
       "121       CC(C)(C)OC(=O)N[C@@H](Cc1cc(F)cc(F)c1)C(=O)O   \n",
       "\n",
       "                                              Reagents  Solvents  Predict_ddG  \\\n",
       "201  CC(=O)O[Pd]OC(C)=O.CC(C)(C)OC(=O)N[C@@H](Cc1cc...  CN(C)C=O     2.485285   \n",
       "122  CC(=O)O[Pd]OC(C)=O.CC(C)(C)OC(=O)N[C@@H](Cc1cc...  CN(C)C=O     2.333197   \n",
       "199  CC(=O)O[Pd]OC(C)=O.CC(C)(C)OC(=O)N[C@@H](Cc1cc...  CN(C)C=O     2.320939   \n",
       "403  CC(=O)O[Pd]OC(C)=O.CCCC[N+](CCCC)(CCCC)CCCC.Cc...  CN(C)C=O     2.314561   \n",
       "119  CC(=O)O[Pd]OC(C)=O.CC(C)(C)OC(=O)N[C@@H](Cc1cc...  CN(C)C=O     2.238687   \n",
       "312  CC(=O)O[Pd]OC(C)=O.CCCC[N+](CCCC)(CCCC)CCCC.CC...  CN(C)C=O     2.212391   \n",
       "316  CC(=O)O[Pd]OC(C)=O.CCCC[N+](CCCC)(CCCC)CCCC.CC...  CN(C)C=O     2.149975   \n",
       "200  CC(=O)O[Pd]OC(C)=O.CC(C)(C)OC(=O)N[C@@H](Cc1cc...  CN(C)C=O     2.126576   \n",
       "402  CC(=O)O[Pd]OC(C)=O.CCCC[N+](CCCC)(CCCC)CCCC.Cc...  CN(C)C=O     2.114718   \n",
       "121  CC(=O)O[Pd]OC(C)=O.CC(C)(C)OC(=O)N[C@@H](Cc1cc...  CN(C)C=O     2.053964   \n",
       "\n",
       "     Predict_ee  \n",
       "201    0.954073  \n",
       "122    0.942564  \n",
       "199    0.941523  \n",
       "403    0.940974  \n",
       "119    0.934050  \n",
       "312    0.931471  \n",
       "316    0.924956  \n",
       "200    0.922364  \n",
       "402    0.921017  \n",
       "121    0.913761  "
      ]
     },
     "execution_count": 10,
     "metadata": {},
     "output_type": "execute_result"
    }
   ],
   "source": [
    "topk_recommend_res.to_csv(\"../recommend/top10_recommend_reacton.csv\",index=False)\n",
    "topk_recommend_res"
   ]
  },
  {
   "cell_type": "markdown",
   "id": "6ad95200",
   "metadata": {},
   "source": [
    "### Analysis of the proportion of bases with high ee (>90%)"
   ]
  },
  {
   "cell_type": "code",
   "execution_count": 11,
   "id": "a691f4b6",
   "metadata": {},
   "outputs": [],
   "source": [
    "pred_ddG_tot = sel_vir_comb_df[\"Predict_ddG\"].to_numpy()\n",
    "pred_ee_tot = ddG2ee(pred_ddG_tot,60+273.15)\n",
    "high_idx_lst = np.where(pred_ee_tot>0.9)[0]\n",
    "base_smi_lst_in_high_ee_data = sel_vir_comb_df.iloc[high_idx_lst][\"Reagents\"].to_list()\n",
    "base_ct_map_of_high_ee = {\"Cs\":0,\"K\":0,\"Rb\":0,\"Na\":0,\"Li\":0}\n",
    "for smi in base_smi_lst_in_high_ee_data:\n",
    "    match = False\n",
    "    for key in base_ct_map_of_high_ee.keys():\n",
    "        \n",
    "        if match is False and key in smi:\n",
    "            base_ct_map_of_high_ee[key] += 1\n",
    "            match = True\n",
    "            break\n",
    "    if match is False:\n",
    "        raise Exception(\"Error\")"
   ]
  },
  {
   "cell_type": "code",
   "execution_count": 12,
   "id": "d22221b0",
   "metadata": {},
   "outputs": [],
   "source": [
    "base_ct_map_of_basedata = {\"Cs\":0,\"K\":0,\"Rb\":0,\"Na\":0,\"Li\":0,\"No base\":0}\n",
    "missmatch_smi = []\n",
    "for smi in sel_base_data_clean[\"Reagents\"].to_list():\n",
    "    match = False\n",
    "    for key in base_ct_map_of_basedata.keys():\n",
    "        if match is False and key in smi:\n",
    "            base_ct_map_of_basedata[key] += 1\n",
    "            match = True\n",
    "            break\n",
    "    if match is False:\n",
    "        base_ct_map_of_basedata[\"No base\"] += 1\n",
    "\n",
    "base_ct_map_of_targetdata = {\"Cs\":0,\"K\":0,\"Rb\":0,\"Na\":0,\"Li\":0,\"No base\":0}\n",
    "for smi in sel_target_data_clean[\"Reagents\"].to_list():\n",
    "    match = False\n",
    "    for key in base_ct_map_of_targetdata.keys():\n",
    "        if match is False and key in smi:\n",
    "            base_ct_map_of_targetdata[key] += 1\n",
    "            match = True\n",
    "            break\n",
    "    if match is False:\n",
    "        base_ct_map_of_targetdata[\"No base\"] += 1"
   ]
  },
  {
   "cell_type": "code",
   "execution_count": 13,
   "id": "79445b66",
   "metadata": {},
   "outputs": [
    {
     "name": "stdout",
     "output_type": "stream",
     "text": [
      "base count in base data: {'Cs': 47, 'K': 365, 'Rb': 0, 'Na': 4, 'Li': 0, 'No base': 30}\n",
      "base count in target data: {'Cs': 3, 'K': 43, 'Rb': 3, 'Na': 3, 'Li': 3, 'No base': 0}\n",
      "base count in predicted high ee data: {'Cs': 3, 'K': 2, 'Rb': 7, 'Na': 3, 'Li': 2}\n"
     ]
    }
   ],
   "source": [
    "print(\"base count in base data:\", base_ct_map_of_basedata)\n",
    "print(\"base count in target data:\", base_ct_map_of_targetdata)\n",
    "print(\"base count in predicted high ee data:\", base_ct_map_of_high_ee)"
   ]
  }
 ],
 "metadata": {
  "kernelspec": {
   "display_name": "Python 3",
   "language": "python",
   "name": "python3"
  },
  "language_info": {
   "codemirror_mode": {
    "name": "ipython",
    "version": 3
   },
   "file_extension": ".py",
   "mimetype": "text/x-python",
   "name": "python",
   "nbconvert_exporter": "python",
   "pygments_lexer": "ipython3",
   "version": "3.10.12"
  }
 },
 "nbformat": 4,
 "nbformat_minor": 5
}
