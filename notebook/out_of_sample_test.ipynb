{
 "cells": [
  {
   "cell_type": "code",
   "execution_count": null,
   "id": "3ee909f0",
   "metadata": {},
   "outputs": [
    {
     "name": "stderr",
     "output_type": "stream",
     "text": [
      "/usr/local/lib/python3.10/dist-packages/tqdm/auto.py:21: TqdmWarning: IProgress not found. Please update jupyter and ipywidgets. See https://ipywidgets.readthedocs.io/en/stable/user_install.html\n",
      "  from .autonotebook import tqdm as notebook_tqdm\n"
     ]
    }
   ],
   "source": [
    "import pandas as pd\n",
    "import numpy as np\n",
    "import matplotlib.pyplot as plt\n",
    "import seaborn as sns\n",
    "import warnings\n",
    "import pandas as pd\n",
    "from copy import deepcopy\n",
    "from rxnpredict.ts.desc import sel_satisfy_ts_data,vec_ts_pair_in_dataset,get_diff_ts_desc\n",
    "from rxnpredict.models.utils import get_model\n",
    "from rxnpredict.evaluate.eval import get_predict\n",
    "from rxnpredict.descriptors.desc import vect_columns_in_dataset,sel_high_corr_desc,reduce_desc_with_corr_matrix\n",
    "from rxnpredict.descriptors.utils import process_desc,maxminscale\n",
    "from rdkit import RDLogger\n",
    "from sklearn.metrics import mean_absolute_error\n",
    "from rxnpredict.utils.convert import ddG2ee\n",
    "from rdkit import Chem\n",
    "import seaborn as sns\n",
    "sns.set_theme(style=\"darkgrid\")\n",
    "RDLogger.DisableLog('rdApp.*')\n",
    "warnings.filterwarnings('ignore')"
   ]
  },
  {
   "cell_type": "code",
   "execution_count": null,
   "id": "a0db07e0",
   "metadata": {},
   "outputs": [],
   "source": [
    "model_name = \"GradientBoostingRegressor\"\n",
    "desc_name = \"SPOC\"\n",
    "merge_method = \"delta\"\n",
    "dist_type = \"euclidean\"\n",
    "descriptor_pearsonr_threshold = 0.95\n",
    "descriptor_target_pearsonr_threshold = 0.2\n",
    "base_rct_keys = [\"Reactant1\",\"Reactant2\"]\n",
    "target_rct_keys = [\"Reactant1\",\"Reactant2\"]\n",
    "base_sol_keys = [\"Solvents\"]\n",
    "target_sol_keys = [\"Solvents\"]\n",
    "base_rgt_keys = [\"Reagents\"]\n",
    "target_rgt_keys = [\"Reagents\"]\n",
    "base_ts_key = [\"Reactant2\",\"Reagent5\"]\n",
    "target_ts_key = [\"Reactant2\",\"Reagent2\"]\n",
    "extsol_ts_key = [\"Reactant2\",\"Reagent2\"]\n",
    "extlig_ts_key = [\"Reactant2\",\"Reagent2\"]\n",
    "selection_inf = {\n",
    "            \"type\": \"loo\",\n",
    "            \"fold\": 10,\n",
    "            \"metric\": [\n",
    "                \"r2\",\n",
    "                \"mae\"\n",
    "            ]}"
   ]
  },
  {
   "cell_type": "code",
   "execution_count": 5,
   "id": "b7f34f67",
   "metadata": {},
   "outputs": [
    {
     "name": "stdout",
     "output_type": "stream",
     "text": [
      "base data shape: (466, 16) target data shape: (68, 12) extsol data shape: (10, 13) extlig data shape: (4, 13)\n"
     ]
    }
   ],
   "source": [
    "base_data_file = \"../data/base_data.csv\"\n",
    "target_data_file = \"../data/target_data.csv\"\n",
    "extsol_data_file = \"../data/extsol.csv\"\n",
    "extlig_data_file = \"../data/extlig.csv\"\n",
    "base_data = pd.read_csv(base_data_file)\n",
    "target_data = pd.read_csv(target_data_file)\n",
    "extsol_data = pd.read_csv(extsol_data_file)\n",
    "extlig_data = pd.read_csv(extlig_data_file)\n",
    "\n",
    "base_data_clean = base_data.dropna(axis=1, how='all')\n",
    "target_data_clean = target_data.dropna(axis=1, how='all')\n",
    "extsol_data_clean = extsol_data.dropna(axis=1, how='all')\n",
    "extlig_data_clean = extlig_data.dropna(axis=1, how='all')\n",
    "\n",
    "# fill NaN with empty string\n",
    "for key in target_rct_keys + target_sol_keys + target_rgt_keys:\n",
    "    target_data_clean[key] = target_data_clean[key].fillna('')\n",
    "for key in base_rct_keys + base_sol_keys + base_rgt_keys:\n",
    "    base_data_clean[key] = base_data_clean[key].fillna('')\n",
    "## Drop rows with missing target values\n",
    "target_data_clean = target_data_clean.dropna(subset=target_rct_keys+target_ts_key)\n",
    "base_data_clean = base_data_clean.dropna(subset=base_rct_keys+base_ts_key)\n",
    "\n",
    "clear_smiles_tsdesc_map = np.load(\"../desc/clear_smiles_tsdesc_map_for_oos.npy\",allow_pickle=True).item()\n",
    "print(f\"base data shape: {base_data_clean.shape}\", f\"target data shape: {target_data_clean.shape}\", f\"extsol data shape: {extsol_data_clean.shape}\", f\"extlig data shape: {extlig_data_clean.shape}\")"
   ]
  },
  {
   "cell_type": "code",
   "execution_count": 6,
   "id": "b7cc1374",
   "metadata": {},
   "outputs": [],
   "source": [
    "oos_sol_smi_set = [Chem.MolToSmiles(Chem.MolFromSmiles(smi)) for smi in set(extsol_data_clean[\"Solvents\"].to_list())]\n",
    "sol_smi_in_train_set = [Chem.MolToSmiles(Chem.MolFromSmiles(smi)) for smi in set(target_data_clean[\"Solvents\"].to_list())]\n",
    "for smi in oos_sol_smi_set:\n",
    "    if smi in sol_smi_in_train_set:\n",
    "        print(f\"Solvent {smi} is in both train and test set\")\n",
    "\n",
    "oos_lig_smi_set = [Chem.MolToSmiles(Chem.MolFromSmiles(smi)) for smi in set(extlig_data_clean[\"Reagent2\"].to_list())]\n",
    "lig_smi_in_train_set = [Chem.MolToSmiles(Chem.MolFromSmiles(smi)) for smi in set(target_data_clean[\"Reagent2\"].to_list())]\n",
    "for smi in oos_lig_smi_set:\n",
    "    if smi in lig_smi_in_train_set:\n",
    "        print(f\"Ligand {smi} is in both train and test set\")"
   ]
  },
  {
   "cell_type": "code",
   "execution_count": 7,
   "id": "7aca9a64",
   "metadata": {},
   "outputs": [
    {
     "name": "stdout",
     "output_type": "stream",
     "text": [
      "Dataset size: target = (68, 12) (without ts constraint) (55, 12) (with ts constraint), base = (466, 16) (without ts constraint) (446, 16) (with ts constraint)\n",
      "Dataset size: extsol = (10, 13) (without ts constraint) (10, 13) (with ts constraint), extlig = (4, 13) (without ts constraint) (4, 13) (with ts constraint)\n",
      "target TS descriptor shape: (55, 114), name shape: (55, 114), base TS descriptor shape: (446, 114), name shape: (446, 114)\n",
      "Full target TS descriptor shape: (55, 171), name shape: (171,), base TS descriptor shape: (446, 171), name shape: (171,)\n"
     ]
    }
   ],
   "source": [
    "sel_target_data_clean = target_data_clean.iloc[sel_satisfy_ts_data(target_data_clean,target_ts_key,clear_smiles_tsdesc_map)]\n",
    "sel_base_data_clean = base_data_clean.iloc[sel_satisfy_ts_data(base_data_clean,base_ts_key,clear_smiles_tsdesc_map)]\n",
    "sel_extsol_data_clean = extsol_data_clean.iloc[sel_satisfy_ts_data(extsol_data_clean,extsol_ts_key,clear_smiles_tsdesc_map)]\n",
    "sel_extlig_data_clean = extlig_data_clean.iloc[sel_satisfy_ts_data(extlig_data_clean,extlig_ts_key,clear_smiles_tsdesc_map)]\n",
    "print(f\"Dataset size: target = {target_data_clean.shape} (without ts constraint) {sel_target_data_clean.shape} (with ts constraint), base = {base_data_clean.shape} (without ts constraint) {sel_base_data_clean.shape} (with ts constraint)\")\n",
    "print(f\"Dataset size: extsol = {extsol_data_clean.shape} (without ts constraint) {sel_extsol_data_clean.shape} (with ts constraint), extlig = {extlig_data_clean.shape} (without ts constraint) {sel_extlig_data_clean.shape} (with ts constraint)\")\n",
    "# perform vectorization for target values with ts descriptors\n",
    "target_ts_desc_inf = vec_ts_pair_in_dataset(sel_target_data_clean,target_ts_key,clear_smiles_tsdesc_map)\n",
    "target_ts_desc,target_ts_desc_names = target_ts_desc_inf[:,0,:].astype(np.float32),target_ts_desc_inf[:,1,:]\n",
    "base_ts_desc_inf = vec_ts_pair_in_dataset(sel_base_data_clean,base_ts_key,clear_smiles_tsdesc_map)\n",
    "base_ts_desc,base_ts_desc_names = base_ts_desc_inf[:,0,:].astype(np.float32),base_ts_desc_inf[:,1,:]\n",
    "extsol_ts_desc_inf = vec_ts_pair_in_dataset(sel_extsol_data_clean,extsol_ts_key,clear_smiles_tsdesc_map)\n",
    "extsol_ts_desc,extsol_ts_desc_names = extsol_ts_desc_inf[:,0,:].astype(np.float32),extsol_ts_desc_inf[:,1,:]\n",
    "extlig_ts_desc_inf = vec_ts_pair_in_dataset(sel_extlig_data_clean,extlig_ts_key,clear_smiles_tsdesc_map)\n",
    "extlig_ts_desc,extlig_ts_desc_names = extlig_ts_desc_inf[:,0,:].astype(np.float32),extlig_ts_desc_inf[:,1,:]\n",
    "print(f\"target TS descriptor shape: {target_ts_desc.shape}, name shape: {target_ts_desc_names.shape}, base TS descriptor shape: {base_ts_desc.shape}, name shape: {base_ts_desc_names.shape}\")\n",
    "\n",
    "\n",
    "# calculate difference descriptors between R/S TS\n",
    "target_ts_diff_desc,target_ts_diff_desc_names = get_diff_ts_desc(target_ts_desc,target_ts_desc_names[0])\n",
    "base_ts_diff_desc,base_ts_diff_desc_names = get_diff_ts_desc(base_ts_desc,base_ts_desc_names[0])\n",
    "extsol_ts_diff_desc,extsol_ts_diff_desc_names = get_diff_ts_desc(extsol_ts_desc,extsol_ts_desc_names[0])\n",
    "extlig_ts_diff_desc,extlig_ts_diff_desc_names = get_diff_ts_desc(extlig_ts_desc,extlig_ts_desc_names[0])\n",
    "target_ts_desc = np.concatenate([target_ts_desc,target_ts_diff_desc],axis=1)                                             ## full TS descriptors\n",
    "base_ts_desc = np.concatenate([base_ts_desc,base_ts_diff_desc],axis=1)                                                   ## full TS descriptors\n",
    "extsol_ts_desc = np.concatenate([extsol_ts_desc,extsol_ts_diff_desc],axis=1)                                             ## full TS descriptors\n",
    "extlig_ts_desc = np.concatenate([extlig_ts_desc,extlig_ts_diff_desc],axis=1)                                             ## full TS descriptors\n",
    "target_ts_desc_names = np.concatenate([target_ts_desc_names[0],target_ts_diff_desc_names],axis=0)                        ## full TS descriptor names\n",
    "base_ts_desc_names = np.concatenate([base_ts_desc_names[0],base_ts_diff_desc_names],axis=0)                              ## full TS descriptor names\n",
    "target_ddG = sel_target_data_clean[\"ddG\"].to_numpy()\n",
    "base_ddG = sel_base_data_clean[\"ddG\"].to_numpy()\n",
    "extsol_ddG = sel_extsol_data_clean[\"ddG\"].to_numpy()\n",
    "extlig_ddG = sel_extlig_data_clean[\"ddG\"].to_numpy()\n",
    "print(f\"Full target TS descriptor shape: {target_ts_desc.shape}, name shape: {target_ts_desc_names.shape}, base TS descriptor shape: {base_ts_desc.shape}, name shape: {base_ts_desc_names.shape}\")"
   ]
  },
  {
   "cell_type": "code",
   "execution_count": 8,
   "id": "46a6f4c6",
   "metadata": {},
   "outputs": [],
   "source": [
    "extsol_merg_rct_desc,_,_ = vect_columns_in_dataset(extsol_data_clean,[\"Reactant1\",\"Reactant2\"],{'descriptor':desc_name},verbose=True)\n",
    "extsol_merg_sol_desc,_,_ = vect_columns_in_dataset(extsol_data_clean,[\"Solvents\"],{'descriptor':desc_name},verbose=True)\n",
    "extsol_merg_reag_desc,_,_ = vect_columns_in_dataset(extsol_data_clean,[\"Reagents\"],{'descriptor':desc_name},verbose=True)\n",
    "extsol_merg_rxn_desc = np.concatenate([extsol_merg_rct_desc,extsol_merg_sol_desc,extsol_merg_reag_desc],axis=1)\n",
    "\n",
    "extlig_merg_rct_desc,_,_ = vect_columns_in_dataset(extlig_data_clean,[\"Reactant1\",\"Reactant2\"],{'descriptor':desc_name},verbose=True)\n",
    "extlig_merg_sol_desc,_,_ = vect_columns_in_dataset(extlig_data_clean,[\"Solvents\"],{'descriptor':desc_name},verbose=True)\n",
    "extlig_merg_reag_desc,_,_ = vect_columns_in_dataset(extlig_data_clean,[\"Reagents\"],{'descriptor':desc_name},verbose=True)\n",
    "extlig_merg_rxn_desc = np.concatenate([extlig_merg_rct_desc,extlig_merg_sol_desc,extlig_merg_reag_desc],axis=1)\n",
    "merg_desc_names = np.array([f\"Reactant 1 {desc_name} {i}\" for i in range(extlig_merg_rct_desc.shape[1]//2)] + \\\n",
    "                           [f\"Reactant 2 {desc_name} {i}\" for i in range(extlig_merg_rct_desc.shape[1]//2)] + \\\n",
    "                           [f\"Solvent {desc_name} {i}\" for i in range(extlig_merg_sol_desc.shape[1])] + \\\n",
    "                           [f\"Reagent {desc_name} {i}\" for i in range(extlig_merg_reag_desc.shape[1])])"
   ]
  },
  {
   "cell_type": "code",
   "execution_count": 9,
   "id": "644141fc",
   "metadata": {},
   "outputs": [
    {
     "name": "stdout",
     "output_type": "stream",
     "text": [
      "target_ts_desc shape: (55, 171), base_ts_desc shape: (446, 171)\n",
      "target_ts_desc_ shape: (55, 67),  base_ts_desc_ shape: (446, 67)\n",
      "SPOC target_merg_rxn_desc shape: (55, 9032), base_merg_rxn_desc shape: (446, 9032)\n",
      "SPOC target_merg_rxn_desc_ shape: (55, 193),  base_merg_rxn_desc_ shape: (446, 193)\n"
     ]
    }
   ],
   "source": [
    "pregen_desc_map = np.load(\"../desc/desc_for_other_components.npy\",allow_pickle=True).item()\n",
    "\n",
    "# descriptor process\n",
    "concat_ts_desc,concat_ts_desc_process_ret_idx = process_desc(np.concatenate([target_ts_desc,base_ts_desc],axis=0),return_idx=True)                                                                              # descriptor process\n",
    "concat_ts_desc,concat_ts_desc_max,concat_ts_desc_min = maxminscale(concat_ts_desc,return_scale=True)                                                                                                            # descriptor process\n",
    "# remove correlated descriptors\n",
    "concat_ts_desc,concat_ts_desc_high_tgt_corr_idx = sel_high_corr_desc(concat_ts_desc,np.concatenate([target_ddG,base_ddG]),threshold=descriptor_target_pearsonr_threshold,return_idx=True)                       # descriptor elimination\n",
    "concat_ts_desc,concat_ts_desc_high_corr_idx = reduce_desc_with_corr_matrix(concat_ts_desc,threshold=descriptor_pearsonr_threshold,ret_idx=True)                                                                 # descriptor elimination\n",
    "\n",
    "target_ts_desc_ = concat_ts_desc[:target_ts_desc.shape[0]]\n",
    "base_ts_desc_ = concat_ts_desc[target_ts_desc.shape[0]:]\n",
    "\n",
    "extsol_ts_desc_ = ((extsol_ts_desc[:,concat_ts_desc_process_ret_idx]-concat_ts_desc_min) / (concat_ts_desc_max-concat_ts_desc_min))[:,concat_ts_desc_high_tgt_corr_idx][:,concat_ts_desc_high_corr_idx]\n",
    "extlig_ts_desc_ = ((extlig_ts_desc[:,concat_ts_desc_process_ret_idx]-concat_ts_desc_min) / (concat_ts_desc_max-concat_ts_desc_min))[:,concat_ts_desc_high_tgt_corr_idx][:,concat_ts_desc_high_corr_idx]\n",
    "base_ts_desc_names_ = base_ts_desc_names[concat_ts_desc_process_ret_idx][concat_ts_desc_high_tgt_corr_idx][concat_ts_desc_high_corr_idx]\n",
    "target_ts_desc_names_ = target_ts_desc_names[concat_ts_desc_process_ret_idx][concat_ts_desc_high_tgt_corr_idx][concat_ts_desc_high_corr_idx]\n",
    "print(f\"target_ts_desc shape: {target_ts_desc.shape}, base_ts_desc shape: {base_ts_desc.shape}\")\n",
    "print(f\"target_ts_desc_ shape: {target_ts_desc_.shape},  base_ts_desc_ shape: {base_ts_desc_.shape}\")\n",
    "\n",
    "\n",
    "target_merg_rxn_desc = pregen_desc_map[desc_name][\"target\"]\n",
    "base_merg_rxn_desc = pregen_desc_map[desc_name][\"base\"]\n",
    "concat_merge_rxn_desc, concat_merge_rxn_desc_process_ret_idx = process_desc(np.concatenate([target_merg_rxn_desc,base_merg_rxn_desc],axis=0),return_idx=True)                                                               # descriptor process\n",
    "concat_merge_rxn_desc,concat_merge_rxn_desc_max,concat_merge_rxn_desc_min = maxminscale(concat_merge_rxn_desc,return_scale=True)                                                                                            # descriptor process\n",
    "concat_merge_rxn_desc,concat_merge_rxn_desc_high_tgt_corr_idx = sel_high_corr_desc(concat_merge_rxn_desc,np.concatenate([target_ddG,base_ddG]),threshold=descriptor_target_pearsonr_threshold,return_idx=True)              # descriptor elimination\n",
    "concat_merge_rxn_desc,concat_merge_rxn_desc_high_corr_idx = reduce_desc_with_corr_matrix(concat_merge_rxn_desc,threshold=descriptor_pearsonr_threshold,ret_idx=True)                                                        # descriptor process\n",
    "\n",
    "target_merg_rxn_desc_ = concat_merge_rxn_desc[:target_merg_rxn_desc.shape[0]]\n",
    "base_merg_rxn_desc_ = concat_merge_rxn_desc[target_merg_rxn_desc.shape[0]:]\n",
    "extsol_merg_rxn_desc_ = ((extsol_merg_rxn_desc[:,concat_merge_rxn_desc_process_ret_idx]-concat_merge_rxn_desc_min) / (concat_merge_rxn_desc_max-concat_merge_rxn_desc_min))[:,concat_merge_rxn_desc_high_tgt_corr_idx][:,concat_merge_rxn_desc_high_corr_idx]\n",
    "extlig_merg_rxn_desc_ = ((extlig_merg_rxn_desc[:,concat_merge_rxn_desc_process_ret_idx]-concat_merge_rxn_desc_min) / (concat_merge_rxn_desc_max-concat_merge_rxn_desc_min))[:,concat_merge_rxn_desc_high_tgt_corr_idx][:,concat_merge_rxn_desc_high_corr_idx]\n",
    "merg_desc_names_ = merg_desc_names[concat_merge_rxn_desc_process_ret_idx][concat_merge_rxn_desc_high_tgt_corr_idx][concat_merge_rxn_desc_high_corr_idx]\n",
    "\n",
    "\n",
    "print(f\"{desc_name} target_merg_rxn_desc shape: {target_merg_rxn_desc.shape}, base_merg_rxn_desc shape: {base_merg_rxn_desc.shape}\")\n",
    "print(f\"{desc_name} target_merg_rxn_desc_ shape: {target_merg_rxn_desc_.shape},  base_merg_rxn_desc_ shape: {base_merg_rxn_desc_.shape}\")\n",
    "\n",
    "target_full_rxn_desc = np.concatenate([target_merg_rxn_desc_,target_ts_desc_],axis=1)                       # TS + other component descriptors\n",
    "base_full_rxn_desc = np.concatenate([base_merg_rxn_desc_,base_ts_desc_],axis=1)                             # TS + other component descriptors\n",
    "extsol_full_rxn_desc = np.concatenate([extsol_merg_rxn_desc_,extsol_ts_desc_],axis=1)                     # TS + other component descriptors\n",
    "extlig_full_rxn_desc = np.concatenate([extlig_merg_rxn_desc_,extlig_ts_desc_],axis=1)                     # TS + other component descriptors\n",
    "\n",
    "full_rxn_desc_std, full_rxn_desc_process_ret_idx = process_desc(np.concatenate([target_full_rxn_desc,base_full_rxn_desc],axis=0),return_idx=True)\n",
    "full_rxn_desc_std, full_rxn_desc_max, full_rxn_desc_min = maxminscale(full_rxn_desc_std,return_scale=True)\n",
    "\n",
    "target_full_rxn_desc_ = full_rxn_desc_std[:target_full_rxn_desc.shape[0]]\n",
    "base_full_rxn_desc_ = full_rxn_desc_std[target_full_rxn_desc.shape[0]:]\n",
    "extsol_full_rxn_desc_ = ((extsol_full_rxn_desc[:,full_rxn_desc_process_ret_idx]-full_rxn_desc_min) / (full_rxn_desc_max-full_rxn_desc_min))\n",
    "extlig_full_rxn_desc_ = ((extlig_full_rxn_desc[:,full_rxn_desc_process_ret_idx]-full_rxn_desc_min) / (full_rxn_desc_max-full_rxn_desc_min))\n",
    "tot_base_desc_names = np.concatenate([merg_desc_names_,base_ts_desc_names_],axis=0)[full_rxn_desc_process_ret_idx]\n",
    "tot_target_desc_names = np.concatenate([merg_desc_names_,target_ts_desc_names_],axis=0)[full_rxn_desc_process_ret_idx]"
   ]
  },
  {
   "cell_type": "code",
   "execution_count": null,
   "id": "3a239dba",
   "metadata": {},
   "outputs": [
    {
     "name": "stdout",
     "output_type": "stream",
     "text": [
      "Evalutaion process: merge method delta, similarity evaluation True, distance type euclidean, topk 150\n",
      "14 times model fitting\n"
     ]
    }
   ],
   "source": [
    "extlig_ddG_truth = deepcopy(extlig_ddG)\n",
    "extsol_ddG_truth = deepcopy(extsol_ddG)\n",
    "model = get_model(model_name,model_params={\"n_estimators\":50,\"random_state\":1024})\n",
    "exttot_ddG_pred = get_predict(model,\n",
    "                       base_full_rxn_desc_,base_ddG,\n",
    "                       target_full_rxn_desc_,target_ddG,\n",
    "                       np.concatenate([extlig_full_rxn_desc_,extsol_full_rxn_desc_],axis=0),\n",
    "                       merge_method=merge_method,simi_eval=True,dist_type=dist_type,topk=150,base_simi_X=None,dest_simi_X=None,verbose=True)\n",
    "exttot_ddG_truth = np.concatenate([extlig_ddG_truth,extsol_ddG_truth],axis=0)\n",
    "extlig_ddG_pred = exttot_ddG_pred[:len(extlig_ddG)]\n",
    "extsol_ddG_pred = exttot_ddG_pred[len(extlig_ddG):]\n",
    "exttot_ee_truth = ddG2ee(exttot_ddG_truth,60+273.15) * 100\n",
    "exttot_ee_pred = ddG2ee(exttot_ddG_pred,60+273.15) * 100\n",
    "extlig_ee_truth = exttot_ee_truth[:len(extlig_ddG)]\n",
    "extsol_ee_truth = exttot_ee_truth[len(extlig_ddG):]\n",
    "extlig_ee_pred = exttot_ee_pred[:len(extlig_ddG)]\n",
    "extsol_ee_pred = exttot_ee_pred[len(extlig_ddG):]"
   ]
  },
  {
   "cell_type": "code",
   "execution_count": 11,
   "id": "c57786e2",
   "metadata": {},
   "outputs": [
    {
     "name": "stdout",
     "output_type": "stream",
     "text": [
      "MAE for all OOS 12.8%, for ligand OOS: 5.0%, for solvent OOS: 15.9%\n"
     ]
    }
   ],
   "source": [
    "print(f\"MAE for all OOS {mean_absolute_error(exttot_ee_truth,exttot_ee_pred):.1f}%, for ligand OOS: {mean_absolute_error(extlig_ee_truth,extlig_ee_pred):.1f}%, for solvent OOS: {mean_absolute_error(extsol_ee_truth,extsol_ee_pred):.1f}%\")"
   ]
  },
  {
   "cell_type": "code",
   "execution_count": 12,
   "id": "59c1dfe7",
   "metadata": {},
   "outputs": [
    {
     "data": {
      "text/plain": [
       "Text(0, 0.5, 'ee (%)')"
      ]
     },
     "execution_count": 12,
     "metadata": {},
     "output_type": "execute_result"
    },
    {
     "data": {
      "image/png": "[encoded data removed]",
      "text/plain": [
       "<Figure size 640x480 with 1 Axes>"
      ]
     },
     "metadata": {},
     "output_type": "display_data"
    }
   ],
   "source": [
    "plt.bar(list(range(len(extlig_ee_truth))),extlig_ee_truth,width=0.2,label=\"Experiment\")\n",
    "plt.bar(np.array(list(range(len(extlig_ee_pred))))+0.2,extlig_ee_pred,width=0.2,label=\"Prediction\")\n",
    "plt.xticks([0.2,1.2,2.2,3.2],[\"Ligand 1\",\"Ligand 2\",\"Ligand 3\", \"Ligand 4\"])\n",
    "plt.legend(loc=(0,1))\n",
    "plt.ylabel(\"ee (%)\")"
   ]
  },
  {
   "cell_type": "code",
   "execution_count": 13,
   "id": "1243a30b",
   "metadata": {},
   "outputs": [
    {
     "data": {
      "text/plain": [
       "Text(0, 0.5, 'ee (%)')"
      ]
     },
     "execution_count": 13,
     "metadata": {},
     "output_type": "execute_result"
    },
    {
     "data": {
      "image/png": "[encoded data removed]",
      "text/plain": [
       "<Figure size 1000x400 with 1 Axes>"
      ]
     },
     "metadata": {},
     "output_type": "display_data"
    }
   ],
   "source": [
    "plt.figure(figsize=(10,4))\n",
    "plt.bar(list(range(len(extsol_ee_truth))),extsol_ee_truth,width=0.2,label=\"Experiment\")\n",
    "plt.bar(np.array(list(range(len(extsol_ee_pred))))+0.2,extsol_ee_pred,width=0.2,label=\"Prediction\")\n",
    "plt.xticks([0.2,1.2,2.2,3.2,4.2,5.2,6.2,7.2,8.2,9.2],[\"Sol 1\",\"Sol 2\",\"Sol 3\", \"Sol 4\",\"Sol 5\",\"Sol 6\",\"Sol 7\", \"Sol 8\",\"Sol 9\",\"Sol 10\"])\n",
    "plt.legend(loc=(0,1))\n",
    "plt.ylabel(\"ee (%)\")"
   ]
  }
 ],
 "metadata": {
  "kernelspec": {
   "display_name": "Python 3",
   "language": "python",
   "name": "python3"
  },
  "language_info": {
   "codemirror_mode": {
    "name": "ipython",
    "version": 3
   },
   "file_extension": ".py",
   "mimetype": "text/x-python",
   "name": "python",
   "nbconvert_exporter": "python",
   "pygments_lexer": "ipython3",
   "version": "3.10.12"
  }
 },
 "nbformat": 4,
 "nbformat_minor": 5
}
